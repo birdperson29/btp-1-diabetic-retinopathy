{
 "cells": [
  {
   "cell_type": "code",
   "execution_count": 1,
   "id": "97b2399d",
   "metadata": {},
   "outputs": [],
   "source": [
    "import tensorflow as tf\n",
    "import pandas as pd\n",
    "import os"
   ]
  },
  {
   "cell_type": "code",
   "execution_count": 2,
   "id": "e58d6311",
   "metadata": {},
   "outputs": [],
   "source": [
    "image_dir = \"C:\\\\Users\\\\sejal\\\\Downloads\\\\diabetic_retinopathy\\\\colored_images\"\n",
    "csv_file = \"C:\\\\Users\\\\sejal\\\\Downloads\\\\diabetic_retinopathy\\\\train.csv\""
   ]
  },
  {
   "cell_type": "code",
   "execution_count": 3,
   "id": "5dd6cdbb",
   "metadata": {},
   "outputs": [],
   "source": [
    "labels_df = pd.read_csv(csv_file)"
   ]
  },
  {
   "cell_type": "code",
   "execution_count": 4,
   "id": "d8bd43ad",
   "metadata": {},
   "outputs": [],
   "source": [
    "label_map = dict(zip(labels_df['id_code'], labels_df['diagnosis']))\n",
    "\n",
    "def get_filtered_file_paths(directory):\n",
    "    class_folders = [os.path.join(directory, class_dir) for class_dir in os.listdir(directory) if not class_dir.startswith(\"._\")]\n",
    "    file_paths = []\n",
    "    for folder in class_folders:\n",
    "        if os.path.isdir(folder):\n",
    "            for file in os.listdir(folder):\n",
    "                if not file.startswith(\"._\"):  # Excluding '._' files\n",
    "                    file_paths.append(os.path.join(folder, file))\n",
    "    return file_paths\n",
    "\n",
    "filtered_file_paths = get_filtered_file_paths(image_dir)\n",
    "\n",
    "datagen = tf.keras.preprocessing.image.ImageDataGenerator(rescale=1./255, validation_split=0.2)"
   ]
  },
  {
   "cell_type": "code",
   "execution_count": 5,
   "id": "88ab322f",
   "metadata": {},
   "outputs": [
    {
     "name": "stdout",
     "output_type": "stream",
     "text": [
      "Found 2931 images belonging to 5 classes.\n",
      "Found 731 images belonging to 5 classes.\n"
     ]
    }
   ],
   "source": [
    "train_data = datagen.flow_from_directory(\n",
    "    directory=image_dir,\n",
    "    target_size=(224, 224),  \n",
    "    batch_size=32,\n",
    "    class_mode='categorical',\n",
    "    subset='training'\n",
    ")\n",
    "\n",
    "val_data = datagen.flow_from_directory(\n",
    "    directory=image_dir,\n",
    "    target_size=(224, 224),\n",
    "    batch_size=32,\n",
    "    class_mode='categorical',\n",
    "    subset='validation'\n",
    ")"
   ]
  },
  {
   "cell_type": "code",
   "execution_count": 6,
   "id": "e3d16ca5",
   "metadata": {},
   "outputs": [],
   "source": [
    "model = tf.keras.models.Sequential([\n",
    "    tf.keras.layers.Conv2D(32, (3, 3), activation='relu', input_shape=(224, 224, 3)),\n",
    "    tf.keras.layers.MaxPooling2D((2, 2)),\n",
    "    tf.keras.layers.Conv2D(64, (3, 3), activation='relu'),\n",
    "    tf.keras.layers.MaxPooling2D((2, 2)),\n",
    "    tf.keras.layers.Flatten(),\n",
    "    tf.keras.layers.Dense(128, activation='relu'),\n",
    "    tf.keras.layers.Dense(5, activation='softmax')  # 5 classes\n",
    "])\n",
    "\n",
    "model.compile(optimizer='adam', loss='sparse_categorical_crossentropy', metrics=['accuracy'])"
   ]
  },
  {
   "cell_type": "code",
   "execution_count": 7,
   "id": "7da006d8",
   "metadata": {},
   "outputs": [
    {
     "name": "stdout",
     "output_type": "stream",
     "text": [
      "Found 3662 files belonging to 5 classes.\n",
      "Using 2930 files for training.\n",
      "Found 3662 files belonging to 5 classes.\n",
      "Using 732 files for validation.\n",
      "Epoch 1/10\n",
      "92/92 [==============================] - 85s 905ms/step - loss: 55.5222 - accuracy: 0.6587 - val_loss: 0.8260 - val_accuracy: 0.7117\n",
      "Epoch 2/10\n",
      "92/92 [==============================] - 83s 898ms/step - loss: 0.7419 - accuracy: 0.7239 - val_loss: 0.7949 - val_accuracy: 0.7131\n",
      "Epoch 3/10\n",
      "92/92 [==============================] - 85s 923ms/step - loss: 0.7125 - accuracy: 0.7341 - val_loss: 0.8057 - val_accuracy: 0.7145\n",
      "Epoch 4/10\n",
      "92/92 [==============================] - 83s 900ms/step - loss: 0.6533 - accuracy: 0.7526 - val_loss: 0.8201 - val_accuracy: 0.7172\n",
      "Epoch 5/10\n",
      "92/92 [==============================] - 95s 1s/step - loss: 0.6126 - accuracy: 0.7700 - val_loss: 0.8386 - val_accuracy: 0.7240\n",
      "Epoch 6/10\n",
      "92/92 [==============================] - 86s 933ms/step - loss: 0.5681 - accuracy: 0.7884 - val_loss: 0.8278 - val_accuracy: 0.7295\n",
      "Epoch 7/10\n",
      "92/92 [==============================] - 88s 956ms/step - loss: 0.5412 - accuracy: 0.7901 - val_loss: 0.8410 - val_accuracy: 0.7459\n",
      "Epoch 8/10\n",
      "92/92 [==============================] - 85s 924ms/step - loss: 0.4939 - accuracy: 0.8130 - val_loss: 0.9021 - val_accuracy: 0.7199\n",
      "Epoch 9/10\n",
      "92/92 [==============================] - 87s 947ms/step - loss: 0.4714 - accuracy: 0.8229 - val_loss: 0.8662 - val_accuracy: 0.7336\n",
      "Epoch 10/10\n",
      "92/92 [==============================] - 89s 965ms/step - loss: 0.4091 - accuracy: 0.8399 - val_loss: 0.9019 - val_accuracy: 0.7309\n"
     ]
    }
   ],
   "source": [
    "def clean_image_dir(directory):\n",
    "    for root, _, files in os.walk(directory):\n",
    "        for file in files:\n",
    "            file_path = os.path.join(root, file)\n",
    "            if file.startswith(\"._\"):\n",
    "                os.remove(file_path)  \n",
    "            else:\n",
    "                try:\n",
    "                    img = tf.io.read_file(file_path)\n",
    "                    img = tf.image.decode_image(img)  \n",
    "                except:\n",
    "                    os.remove(file_path) \n",
    "\n",
    "clean_image_dir(image_dir)\n",
    "\n",
    "train_data = tf.keras.preprocessing.image_dataset_from_directory(\n",
    "    image_dir,\n",
    "    validation_split=0.2,\n",
    "    subset=\"training\",\n",
    "    seed=123,\n",
    "    image_size=(224, 224),\n",
    "    batch_size=32\n",
    ")\n",
    "\n",
    "val_data = tf.keras.preprocessing.image_dataset_from_directory(\n",
    "    image_dir,\n",
    "    validation_split=0.2,\n",
    "    subset=\"validation\",\n",
    "    seed=123,\n",
    "    image_size=(224, 224),\n",
    "    batch_size=32\n",
    ")\n",
    "\n",
    "\n",
    "history = model.fit(train_data, validation_data=val_data, epochs=10)"
   ]
  },
  {
   "cell_type": "code",
   "execution_count": 5,
   "id": "221ffbb3",
   "metadata": {},
   "outputs": [
    {
     "data": {
      "image/png": "[encoded data removed]",
      "text/plain": [
       "<Figure size 800x600 with 1 Axes>"
      ]
     },
     "metadata": {},
     "output_type": "display_data"
    }
   ],
   "source": [
    "import matplotlib.pyplot as plt\n",
    "\n",
    "class_counts = labels_df['diagnosis'].value_counts()\n",
    "\n",
    "plt.figure(figsize=(8, 6))\n",
    "plt.bar(class_counts.index, class_counts.values, color='skyblue')\n",
    "plt.xlabel('Diabetic Retinopathy Class', fontsize=12)\n",
    "plt.ylabel('Number of Images', fontsize=12)\n",
    "plt.title('Number of Images in Each Class', fontsize=14)\n",
    "plt.xticks(class_counts.index)\n",
    "plt.grid(axis='y', linestyle='--', alpha=0.7)\n",
    "\n",
    "plt.show()"
   ]
  },
  {
   "cell_type": "code",
   "execution_count": null,
   "id": "f0cc309a",
   "metadata": {},
   "outputs": [],
   "source": [
    "from sklearn.metrics import classification_report\n",
    "import numpy as np\n",
    "\n",
    "val_data.reset()  \n",
    "y_true = []\n",
    "y_pred = []\n",
    "\n",
    "for i in range(len(val_data)):\n",
    "    x_batch, y_batch = val_data[i]\n",
    "    predictions = model.predict(x_batch)\n",
    "    y_true.extend(np.argmax(y_batch, axis=1))\n",
    "    y_pred.extend(np.argmax(predictions, axis=1))\n",
    "\n",
    "class_labels = list(val_data.class_indices.keys())\n",
    "report = classification_report(y_true, y_pred, target_names=class_labels)\n",
    "\n",
    "print(\"Classification Report:\")\n",
    "print(report)"
   ]
  }
 ],
 "metadata": {
  "kernelspec": {
   "display_name": "Python 3 (ipykernel)",
   "language": "python",
   "name": "python3"
  },
  "language_info": {
   "codemirror_mode": {
    "name": "ipython",
    "version": 3
   },
   "file_extension": ".py",
   "mimetype": "text/x-python",
   "name": "python",
   "nbconvert_exporter": "python",
   "pygments_lexer": "ipython3",
   "version": "3.11.0"
  }
 },
 "nbformat": 4,
 "nbformat_minor": 5
}
