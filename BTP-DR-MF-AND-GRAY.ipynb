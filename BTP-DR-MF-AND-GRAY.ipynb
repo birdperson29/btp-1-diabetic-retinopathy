{
 "cells": [
  {
   "cell_type": "code",
   "execution_count": 1,
   "id": "468d3395",
   "metadata": {},
   "outputs": [
    {
     "name": "stdout",
     "output_type": "stream",
     "text": [
      "Requirement already satisfied: opencv-python in c:\\users\\sejal\\appdata\\local\\programs\\python\\python311\\lib\\site-packages (4.10.0.84)"
     ]
    },
    {
     "name": "stderr",
     "output_type": "stream",
     "text": [
      "\n",
      "[notice] A new release of pip is available: 24.0 -> 24.3.1\n",
      "[notice] To update, run: python.exe -m pip install --upgrade pip\n"
     ]
    },
    {
     "name": "stdout",
     "output_type": "stream",
     "text": [
      "\n",
      "Requirement already satisfied: numpy>=1.21.2 in c:\\users\\sejal\\appdata\\local\\programs\\python\\python311\\lib\\site-packages (from opencv-python) (1.25.2)\n"
     ]
    }
   ],
   "source": [
    "!pip install opencv-python"
   ]
  },
  {
   "cell_type": "code",
   "execution_count": 2,
   "id": "97b2399d",
   "metadata": {},
   "outputs": [],
   "source": [
    "import tensorflow as tf\n",
    "import pandas as pd\n",
    "import numpy as np\n",
    "import cv2\n",
    "import os\n",
    "from sklearn.model_selection import train_test_split"
   ]
  },
  {
   "cell_type": "code",
   "execution_count": 3,
   "id": "e58d6311",
   "metadata": {},
   "outputs": [],
   "source": [
    "image_dir = \"C:\\\\Users\\\\sejal\\\\Downloads\\\\diabetic_retinopathy\\\\colored_images\"\n",
    "csv_file = \"C:\\\\Users\\\\sejal\\\\Downloads\\\\diabetic_retinopathy\\\\train.csv\""
   ]
  },
  {
   "cell_type": "code",
   "execution_count": 4,
   "id": "5dd6cdbb",
   "metadata": {},
   "outputs": [],
   "source": [
    "labels_df = pd.read_csv(csv_file)"
   ]
  },
  {
   "cell_type": "code",
   "execution_count": 5,
   "id": "d8bd43ad",
   "metadata": {},
   "outputs": [],
   "source": [
    "label_map = dict(zip(labels_df['id_code'], labels_df['diagnosis']))\n",
    "\n",
    "def get_filtered_file_paths(directory):\n",
    "    class_folders = [os.path.join(directory, class_dir) for class_dir in os.listdir(directory) if not class_dir.startswith(\"._\")]\n",
    "    file_paths = []\n",
    "    for folder in class_folders:\n",
    "        if os.path.isdir(folder):\n",
    "            for file in os.listdir(folder):\n",
    "                if not file.startswith(\"._\"):  # Excluding '._' files\n",
    "                    file_paths.append(os.path.join(folder, file))\n",
    "    return file_paths"
   ]
  },
  {
   "cell_type": "code",
   "execution_count": 6,
   "id": "192d81e0",
   "metadata": {},
   "outputs": [],
   "source": [
    "def preprocess_image(image_path):\n",
    "    img = tf.io.read_file(image_path)\n",
    "    img = tf.image.decode_image(img, channels=3)\n",
    "\n",
    "    #grayscale\n",
    "    gray_img = tf.image.rgb_to_grayscale(img).numpy()\n",
    "\n",
    "    #median filter\n",
    "    filtered_img = cv2.medianBlur(np.squeeze(gray_img), ksize=5)\n",
    "\n",
    "    resized_img = cv2.resize(filtered_img, (224, 224))\n",
    "\n",
    "    normalized_img = resized_img / 255.0\n",
    "\n",
    "    return np.expand_dims(normalized_img, axis=-1)"
   ]
  },
  {
   "cell_type": "code",
   "execution_count": 7,
   "id": "5452e823",
   "metadata": {},
   "outputs": [],
   "source": [
    "def preprocess_dataset(image_dir, label_map):\n",
    "    images = []\n",
    "    labels = []\n",
    "    file_paths = get_filtered_file_paths(image_dir)\n",
    "    for file_path in file_paths:\n",
    "        try:\n",
    "            filename = os.path.basename(file_path)\n",
    "            image_id = os.path.splitext(filename)[0]  \n",
    "            if image_id in label_map: \n",
    "                preprocessed_img = preprocess_image(file_path)\n",
    "                images.append(preprocessed_img)\n",
    "                labels.append(label_map[image_id])\n",
    "        except Exception as e:\n",
    "            print(f\"Error processing {file_path}: {e}\")\n",
    "    return np.array(images), np.array(labels)\n",
    "\n",
    "\n",
    "X, y = preprocess_dataset(image_dir, label_map)"
   ]
  },
  {
   "cell_type": "code",
   "execution_count": 8,
   "id": "88ab322f",
   "metadata": {},
   "outputs": [],
   "source": [
    "X_train, X_val, y_train, y_val = train_test_split(X, y, test_size=0.2, random_state=42)\n",
    "\n",
    "train_data = tf.data.Dataset.from_tensor_slices((X_train, y_train)).batch(32)\n",
    "val_data = tf.data.Dataset.from_tensor_slices((X_val, y_val)).batch(32)"
   ]
  },
  {
   "cell_type": "code",
   "execution_count": 9,
   "id": "e3d16ca5",
   "metadata": {},
   "outputs": [],
   "source": [
    "model = tf.keras.models.Sequential([\n",
    "    tf.keras.layers.Conv2D(32, (3, 3), activation='relu', input_shape=(224, 224, 1)),\n",
    "    tf.keras.layers.MaxPooling2D((2, 2)),\n",
    "    tf.keras.layers.Conv2D(64, (3, 3), activation='relu'),\n",
    "    tf.keras.layers.MaxPooling2D((2, 2)),\n",
    "    tf.keras.layers.Flatten(),\n",
    "    tf.keras.layers.Dense(128, activation='relu'),\n",
    "    tf.keras.layers.Dense(5, activation='softmax')  # 5 classes\n",
    "])\n",
    "\n",
    "model.compile(optimizer='adam', loss='sparse_categorical_crossentropy', metrics=['accuracy'])"
   ]
  },
  {
   "cell_type": "code",
   "execution_count": 10,
   "id": "7da006d8",
   "metadata": {},
   "outputs": [
    {
     "name": "stdout",
     "output_type": "stream",
     "text": [
      "Epoch 1/10\n",
      "92/92 [==============================] - 92s 970ms/step - loss: 0.9379 - accuracy: 0.6610 - val_loss: 0.8419 - val_accuracy: 0.6821\n",
      "Epoch 2/10\n",
      "92/92 [==============================] - 85s 925ms/step - loss: 0.7643 - accuracy: 0.7149 - val_loss: 0.8169 - val_accuracy: 0.6835\n",
      "Epoch 3/10\n",
      "92/92 [==============================] - 83s 905ms/step - loss: 0.7369 - accuracy: 0.7231 - val_loss: 0.8093 - val_accuracy: 0.6944\n",
      "Epoch 4/10\n",
      "92/92 [==============================] - 83s 902ms/step - loss: 0.7310 - accuracy: 0.7303 - val_loss: 0.8164 - val_accuracy: 0.6903\n",
      "Epoch 5/10\n",
      "92/92 [==============================] - 82s 887ms/step - loss: 0.7056 - accuracy: 0.7364 - val_loss: 0.8060 - val_accuracy: 0.6958\n",
      "Epoch 6/10\n",
      "92/92 [==============================] - 86s 931ms/step - loss: 0.6815 - accuracy: 0.7429 - val_loss: 0.7928 - val_accuracy: 0.7135\n",
      "Epoch 7/10\n",
      "92/92 [==============================] - 87s 950ms/step - loss: 0.6647 - accuracy: 0.7422 - val_loss: 0.8195 - val_accuracy: 0.6862\n",
      "Epoch 8/10\n",
      "92/92 [==============================] - 89s 963ms/step - loss: 0.6358 - accuracy: 0.7627 - val_loss: 0.8468 - val_accuracy: 0.6985\n",
      "Epoch 9/10\n",
      "92/92 [==============================] - 87s 942ms/step - loss: 0.6165 - accuracy: 0.7672 - val_loss: 0.8352 - val_accuracy: 0.6903\n",
      "Epoch 10/10\n",
      "92/92 [==============================] - 85s 928ms/step - loss: 0.5916 - accuracy: 0.7767 - val_loss: 0.8201 - val_accuracy: 0.6999\n"
     ]
    }
   ],
   "source": [
    "history = model.fit(train_data, validation_data=val_data, epochs=10)"
   ]
  },
  {
   "cell_type": "code",
   "execution_count": null,
   "id": "107716d0",
   "metadata": {},
   "outputs": [],
   "source": []
  }
 ],
 "metadata": {
  "kernelspec": {
   "display_name": "Python 3 (ipykernel)",
   "language": "python",
   "name": "python3"
  },
  "language_info": {
   "codemirror_mode": {
    "name": "ipython",
    "version": 3
   },
   "file_extension": ".py",
   "mimetype": "text/x-python",
   "name": "python",
   "nbconvert_exporter": "python",
   "pygments_lexer": "ipython3",
   "version": "3.11.0"
  }
 },
 "nbformat": 4,
 "nbformat_minor": 5
}
